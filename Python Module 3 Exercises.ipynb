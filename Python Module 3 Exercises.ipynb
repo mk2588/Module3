{
 "cells": [
  {
   "cell_type": "markdown",
   "metadata": {},
   "source": [
    "Exercise 1. Ask for a color and store that answer. \n",
    "If the answer is grey then print out you found Victor's favorite color.\n",
    "Otherwise print out the color is not Victor's favorite color."
   ]
  },
  {
   "cell_type": "code",
   "execution_count": 2,
   "metadata": {},
   "outputs": [
    {
     "name": "stdin",
     "output_type": "stream",
     "text": [
      "What is Victor's favorite color? grey\n"
     ]
    },
    {
     "name": "stdout",
     "output_type": "stream",
     "text": [
      "You are correct!\n"
     ]
    }
   ],
   "source": [
    "fav_color = \"grey\"\n",
    "color = input(\"What is Victor's favorite color?\")\n",
    "if color == fav_color:\n",
    "    print(\"You are correct!\")\n",
    "else:\n",
    "    print(\"Sorry it is grey.\")"
   ]
  },
  {
   "cell_type": "markdown",
   "metadata": {},
   "source": [
    "Exercise 2. Modify code from above exercise 1 and add in more conditions for other colors such as red, green, blue and then, write statements for them. "
   ]
  },
  {
   "cell_type": "code",
   "execution_count": 3,
   "metadata": {},
   "outputs": [
    {
     "name": "stdin",
     "output_type": "stream",
     "text": [
      "What is Victor's favorite color? red\n"
     ]
    },
    {
     "name": "stdout",
     "output_type": "stream",
     "text": [
      "Sorry, it is grey.\n"
     ]
    }
   ],
   "source": [
    "fav_color = input(\"What is Victor's favorite color?\")\n",
    "\n",
    "if fav_color.lower() == \"grey\":\n",
    "    print(\"You are correct!\")\n",
    "elif fav_color.lower() == \"red\":\n",
    "    print(\"Sorry, it is grey.\")\n",
    "elif fav_color.lower() == \"green\":\n",
    "    print(\"Sorry, it is grey.\")\n",
    "elif fav_color.lower() == \"blue\":\n",
    "    print(\"Sorry, it is grey.\")\n",
    "else:\n",
    "    print(\"This is not Victor's favorite color.\")"
   ]
  },
  {
   "cell_type": "markdown",
   "metadata": {},
   "source": [
    "Exercise 3. Ask for an exam score and store that number. If the number is greater than 100, then print out 'You cannot have an exam score higher than 100'. If the number doesn't exceeed 100 but is greater than or equal to 75, then print out 'You did great on your exam!'. Otherwise if they scored lower than 75, then print out 'You need to study harder'."
   ]
  },
  {
   "cell_type": "code",
   "execution_count": 3,
   "metadata": {},
   "outputs": [
    {
     "name": "stdin",
     "output_type": "stream",
     "text": [
      "Enter a score:  80\n"
     ]
    },
    {
     "name": "stdout",
     "output_type": "stream",
     "text": [
      "You did great on your exam!\n"
     ]
    }
   ],
   "source": [
    "score = int(input(\"Enter a score: \"))\n",
    "if score > 100:\n",
    "    print(\"You cannot have an exam score higher than 100\")\n",
    "elif score >= 75:\n",
    "    print(\"You did great on your exam!\")\n",
    "else:\n",
    "    print(\"You need to study harder\")"
   ]
  },
  {
   "cell_type": "markdown",
   "metadata": {},
   "source": [
    "Exercise 4. \n",
    "Define two functions: \n",
    "    - a function that takes 3 arguements and returns the sum of three arguements\n",
    "    - a function that takes 2 arguements and returns the result of 1st arguement multiplied by 2nd arguement\n",
    "\n",
    "Then tell the user to choose option 1 to add three numbers or option 2 to multiply two numbers.\n",
    "If the user choose option 1 then call the addition function, otherwise if they choose option 2 then call the mulitplication function.  If the user choose anything other than option 1 or 2, then generate a friendly error messsage"
   ]
  },
  {
   "cell_type": "code",
   "execution_count": 5,
   "metadata": {},
   "outputs": [
    {
     "name": "stdin",
     "output_type": "stream",
     "text": [
      "Please select an option:\n",
      "1 - to add 3 numbers or \n",
      "2 - to multiply 2 numbers\n",
      " 1\n",
      "Please enter the first number:  2\n",
      "Please enter the second number:  5\n",
      "Please enter the third number:  3\n"
     ]
    },
    {
     "name": "stdout",
     "output_type": "stream",
     "text": [
      "The result is 10\n"
     ]
    }
   ],
   "source": [
    "# Function to add 3 numbers\n",
    "def sum3(num1,num2,num3):\n",
    "    return(num1 + num2 + num3)\n",
    "\n",
    "# Function to multiply 2 numbers\n",
    "def mult2(n1,n2):\n",
    "    return(n1 * n2)\n",
    "\n",
    "option = input(\"Please select an option:\\n1 - to add 3 numbers or \\n2 - to multiply 2 numbers\\n\")\n",
    "if (option == \"1\"):\n",
    "    num1 = int(input(\"Please enter the first number: \"))\n",
    "    num2 = int(input(\"Please enter the second number: \"))\n",
    "    num3 = int(input(\"Please enter the third number: \"))\n",
    "    print(f\"The result is {sum3(num1,num2,num3)}\")\n",
    "elif (option == \"2\"):\n",
    "    num1 = int(input(\"Please enter the first number: \"))\n",
    "    num2 = int(input(\"Please enter the second number: \"))\n",
    "    print(f\"The result is {mult2(num1,num2)}\")\n",
    "else:\n",
    "    print(f\"Sorry, '{option}' is not a valid option, please try again later.\")"
   ]
  },
  {
   "cell_type": "markdown",
   "metadata": {},
   "source": [
    "## Exercise 5. \n",
    "Write a function to convert a test score to a grade where  \n",
    " - 90 - 100: A\n",
    " - 80 - 89:  B\n",
    " - 70 - 79:  C\n",
    " - 60 - 69:  D\n",
    " - < 60   :  F\n",
    " \n",
    "If a score is not between 0 and 100 then print out an error message. In the program, ask the user for a score and then call your function. "
   ]
  },
  {
   "cell_type": "code",
   "execution_count": 6,
   "metadata": {},
   "outputs": [
    {
     "name": "stdin",
     "output_type": "stream",
     "text": [
      "Please enter your test score:  100\n"
     ]
    },
    {
     "name": "stdout",
     "output_type": "stream",
     "text": [
      "Grade is A\n"
     ]
    }
   ],
   "source": [
    "def convert_to_grade(score):\n",
    "    if score > 100 or score < 0:\n",
    "        msg = \"Score must be between 0 and 100\"\n",
    "    elif score >= 90:\n",
    "        msg = \"Grade is A\"\n",
    "    elif score >= 80:\n",
    "        msg = \"Grade is B\"\n",
    "    elif score >= 70:\n",
    "        msg = \"Grade is C\"\n",
    "    elif score >= 60:\n",
    "        msg = \"Grade is D\"\n",
    "    else:\n",
    "        msg = \"Grade is F\"\n",
    "    return msg\n",
    "score = int(input(\"Please enter your test score: \"))\n",
    "print(convert_to_grade(score))"
   ]
  },
  {
   "cell_type": "markdown",
   "metadata": {},
   "source": [
    "Exercise 6. Write a program to compute discounts for customers.  \n",
    "- For retail customers, \n",
    "    - if invoice total is greater than \\$100 then discount rate is 10\\%, otherwise no discount \n",
    "\n",
    "- For wholesale customers,\n",
    "    - if invoice total is greater than \\$500 then discount rate is 30\\%, otherwise discount rate is 20\\%\n",
    "    \n",
    "Get the type of customer and the invoice total from the user."
   ]
  },
  {
   "cell_type": "code",
   "execution_count": 11,
   "metadata": {},
   "outputs": [
    {
     "name": "stdin",
     "output_type": "stream",
     "text": [
      "Enter customer type (r/w):\t r\n",
      "Enter invoice amount:  101\n"
     ]
    },
    {
     "name": "stdout",
     "output_type": "stream",
     "text": [
      "Invoice Amount: $101\n",
      "Discount Percentage: 10.0%\n",
      "Final Price: $10.10\n",
      "New Invoice Total: $90.90\n"
     ]
    }
   ],
   "source": [
    "def discount_calc(customer_type, invoice):\n",
    "    if customer_type[0] == \"r\" or customer_type[0] == \"R\":\n",
    "        if invoice > 100:\n",
    "            discount = 0.1\n",
    "        else:\n",
    "            discount = 0.0\n",
    "    elif customer_type [0] == \"w\" or customer_type [0] == \"W\":\n",
    "        if invoice > 500:\n",
    "            discount = 0.3\n",
    "        else:\n",
    "            discount = 0.2\n",
    "    print(f\"Invoice Amount: ${invoice}\\nDiscount Percentage: {discount*100}%\\nFinal Price: ${invoice * discount:,.2f}\\nNew Invoice Total: ${invoice - (invoice * discount):,.2f}\")\n",
    "\n",
    "discount_calc(input(\"Enter customer type (r/w):\\t\"),int(input(\"Enter invoice amount: \")))"
   ]
  },
  {
   "cell_type": "markdown",
   "metadata": {},
   "source": [
    "Exercise 7: Write a function that accepts two parameters (a and b) and returns a result of a/b.  In this function, try to catch any exception error.  Then, write a program to get two numbers from a user, call your function using these two numbers, and print out the result in a friendly format.  All input and print statements must be done in the main program. Repeat the process until user wants to quit the program. "
   ]
  },
  {
   "cell_type": "code",
   "execution_count": 9,
   "metadata": {},
   "outputs": [
    {
     "name": "stdin",
     "output_type": "stream",
     "text": [
      "Please enter first number:  3\n",
      "Please enter second number:  7\n"
     ]
    },
    {
     "name": "stdout",
     "output_type": "stream",
     "text": [
      "\n",
      "\n",
      "3/7 = 0.42857142857142855\n"
     ]
    },
    {
     "name": "stdin",
     "output_type": "stream",
     "text": [
      "Do you want to try again? (y/n) y\n",
      "Please enter first number:  10\n",
      "Please enter second number:  0\n"
     ]
    },
    {
     "name": "stdout",
     "output_type": "stream",
     "text": [
      "\n",
      "***** ERROR:  <class 'ZeroDivisionError'> occurred. *****\n",
      "\n",
      "\n",
      "10/0 = 0\n"
     ]
    },
    {
     "name": "stdin",
     "output_type": "stream",
     "text": [
      "Do you want to try again? (y/n) n\n"
     ]
    }
   ],
   "source": [
    "import sys\n",
    "\n",
    "def division(a, b):\n",
    "    \n",
    "    try:\n",
    "        result = a/b\n",
    "    except:\n",
    "        print(f\"\\n***** ERROR: \", sys.exc_info()[0], \"occurred. *****\") #no print statement for input\n",
    "        result = 0\n",
    "    return result\n",
    "\n",
    "while True:\n",
    "    num1 = int(input(\"Please enter first number: \"))\n",
    "    num2 = int(input(\"Please enter second number: \"))\n",
    "    result = division(num1,num2)\n",
    "    print(f\"\\n\\n{num1}/{num2} = {result}\")\n",
    "    \n",
    "    answer = input(\"Do you want to try again? (y/n)\")\n",
    "    if answer.lower() == \"n\":\n",
    "        break"
   ]
  },
  {
   "cell_type": "code",
   "execution_count": null,
   "metadata": {},
   "outputs": [],
   "source": []
  },
  {
   "cell_type": "markdown",
   "metadata": {},
   "source": [
    "Exercise 8: Write a function to generate a multiplication table. Then write a program to ask a user if user wants to generate a  mutiplication table for a random number or provide a number. The program should continue to run until a user wants to quit."
   ]
  },
  {
   "cell_type": "code",
   "execution_count": 12,
   "metadata": {},
   "outputs": [
    {
     "name": "stdin",
     "output_type": "stream",
     "text": [
      "Do you want to randomly generate a multiplication table? (y/n) y\n"
     ]
    },
    {
     "name": "stdout",
     "output_type": "stream",
     "text": [
      "1 X 1 = 1\n",
      "1 X 2 = 2\n",
      "1 X 3 = 3\n",
      "1 X 4 = 4\n",
      "1 X 5 = 5\n",
      "1 X 6 = 6\n",
      "1 X 7 = 7\n",
      "1 X 8 = 8\n",
      "1 X 9 = 9\n"
     ]
    },
    {
     "name": "stdin",
     "output_type": "stream",
     "text": [
      "Do you want to try again? n\n"
     ]
    }
   ],
   "source": [
    "import random as rand\n",
    "\n",
    "def mult_table(num):\n",
    "    count = 1\n",
    "    while count < 10:\n",
    "        print(f\"{num} X {count} = {num * count}\")\n",
    "        count += 1 # count = count + 1\n",
    "\n",
    "choice = \"y\"\n",
    "while choice.lower() == \"y\":\n",
    "    answer = input(\"Do you want to randomly generate a multiplication table? (y/n)\")\n",
    "    \n",
    "    if answer.lower() == \"y\":\n",
    "        num = rand.randint(1,9)\n",
    "    else: \n",
    "        num = (int(input(\"Please enter a number: \")))\n",
    "    \n",
    "    mult_table(num)\n",
    "    choice = input(\"Do you want to try again?\")\n",
    "    "
   ]
  },
  {
   "cell_type": "code",
   "execution_count": null,
   "metadata": {},
   "outputs": [],
   "source": []
  },
  {
   "cell_type": "markdown",
   "metadata": {},
   "source": [
    "Exercise 9: Write a function to draw a right-triangle using a number as a character.Then, write a program to generate a random number between 1 and 9, call your function with that random number.  The output should look something like this:\n",
    "\n",
    "        base: 5\n",
    "        5\n",
    "        55\n",
    "        555\n",
    "        5555\n",
    "        55555\n",
    "\n",
    "\n",
    "        base: 8\n",
    "        8\n",
    "        88\n",
    "        888\n",
    "        8888\n",
    "        88888\n",
    "        888888\n",
    "        8888888\n",
    "        88888888"
   ]
  },
  {
   "cell_type": "code",
   "execution_count": 14,
   "metadata": {},
   "outputs": [
    {
     "name": "stdout",
     "output_type": "stream",
     "text": [
      "base8\n",
      "8\n",
      "88\n",
      "888\n",
      "8888\n",
      "88888\n",
      "888888\n",
      "8888888\n",
      "88888888\n"
     ]
    }
   ],
   "source": [
    "import random as rand\n",
    "\n",
    "def triangle(num):\n",
    "    count = 1\n",
    "    symbol = str(num)\n",
    "    while count <= num:\n",
    "        print(f\"{symbol*count}\")\n",
    "        count += 1\n",
    "\n",
    "rand_num = rand.randint(1,9)\n",
    "print(f\"base{rand_num}\")\n",
    "triangle(rand_num)"
   ]
  },
  {
   "cell_type": "code",
   "execution_count": null,
   "metadata": {},
   "outputs": [],
   "source": []
  },
  {
   "cell_type": "markdown",
   "metadata": {},
   "source": [
    "Exercise 10: Modify function from exercise 9 to show output like this:\n",
    "\n",
    "        base: 5\n",
    "            5\n",
    "           55\n",
    "          555\n",
    "         5555 \n",
    "        55555\n",
    "        \n",
    "        base: 8\n",
    "               8\n",
    "              88\n",
    "             888\n",
    "            8888\n",
    "           88888\n",
    "          888888\n",
    "         8888888\n",
    "        88888888 "
   ]
  },
  {
   "cell_type": "code",
   "execution_count": 12,
   "metadata": {},
   "outputs": [
    {
     "name": "stdout",
     "output_type": "stream",
     "text": [
      "base7\n",
      "         7\n",
      "        77\n",
      "       777\n",
      "      7777\n",
      "     77777\n",
      "    777777\n",
      "   7777777\n"
     ]
    }
   ],
   "source": [
    "import random as rand\n",
    "\n",
    "def triangle(num):\n",
    "    count = 1\n",
    "    symbol = str(num)\n",
    "    blank = \" \"\n",
    "    blank_count = 9\n",
    "    while count <= num:\n",
    "        print(f\"{blank*blank_count}{symbol*count}\")\n",
    "        count += 1\n",
    "        blank_count -= 1\n",
    "\n",
    "rand_num = rand.randint(1,9)\n",
    "print(f\"base{rand_num}\")\n",
    "triangle(rand_num)"
   ]
  },
  {
   "cell_type": "code",
   "execution_count": null,
   "metadata": {},
   "outputs": [],
   "source": []
  }
 ],
 "metadata": {
  "kernelspec": {
   "display_name": "Python 3",
   "language": "python",
   "name": "python3"
  },
  "language_info": {
   "codemirror_mode": {
    "name": "ipython",
    "version": 3
   },
   "file_extension": ".py",
   "mimetype": "text/x-python",
   "name": "python",
   "nbconvert_exporter": "python",
   "pygments_lexer": "ipython3",
   "version": "3.8.8"
  }
 },
 "nbformat": 4,
 "nbformat_minor": 4
}
